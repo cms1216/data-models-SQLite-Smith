{
 "cells": [
  {
   "cell_type": "markdown",
   "metadata": {},
   "source": [
    "# CSE-10102-01\n",
    "\n",
    "## Elements of Computing II\n",
    "\n",
    "Student Name: **Connor Smith**\n",
    "<br>\n",
    "Net ID: **csmith77**\n",
    "<br>\n",
    "Title: **SQLite Intro**"
   ]
  },
  {
   "cell_type": "markdown",
   "metadata": {},
   "source": [
    "**Q1: Describe your experience installing DB Browser for SQLite based on the provided instructions and available documentation. What challenges did you encounter, and how did you solve those problems?**"
   ]
  },
  {
   "cell_type": "markdown",
   "metadata": {},
   "source": [
    "<blockquote>Q1. When installing the DB Browser for SQLite it was really easy to download and install on my computer. I didn't experience any challenges while installing but I found that there was plenty of documentation about the installation process so even if I did it would not have been an issue.</blockquote>"
   ]
  },
  {
   "cell_type": "markdown",
   "metadata": {},
   "source": [
    "**Q2: Describe your experience loading .csv files into DB Browser based on the provided instructions and available documentation. What challenges did you encounter, and how did you solve those problems?**"
   ]
  },
  {
   "cell_type": "markdown",
   "metadata": {},
   "source": [
    "<blockquote>Q2. When loading in the .csv file into the Db Browser for SQLite I followed the instructions and it worked perfectly. Similar to how I loaded csv's into the Oracle SQL developer that I used last semester, this program was very easy to use and the ability to see how the data will look while you load it in leads to less mistakes and repetition of teh same step to make sure it's right. The lab procedure was very helpful so I didnt experience any challenges when uploading. </blockquote>"
   ]
  },
  {
   "cell_type": "markdown",
   "metadata": {},
   "source": [
    "**Q3: Describe your experience setting key fields and building table relationships to form a relational database in DB Browser, based on the provided instructions and available documentation. What challenges did you encounter, and how did you solve those problems?**"
   ]
  },
  {
   "cell_type": "markdown",
   "metadata": {},
   "source": [
    "<blockquote>Q3. When working with this part of the lab it all really made sense to me. this is probably becuase i have already worked with SQL before and have a good understanding on how it works and what to do while using it. The only challenge I encountered was that looking back at the Team_Locations field the dataset did not include the Team_ID field so I wasnt able to set that as the forign key for the other table and setting it as the priary key of that table. Otherwise, this portion of the lab was really easy to understand and helped me get a grasp on the DB Browser.</blockquote>"
   ]
  }
 ],
 "metadata": {
  "kernelspec": {
   "display_name": "Python 3",
   "language": "python",
   "name": "python3"
  },
  "language_info": {
   "codemirror_mode": {
    "name": "ipython",
    "version": 3
   },
   "file_extension": ".py",
   "mimetype": "text/x-python",
   "name": "python",
   "nbconvert_exporter": "python",
   "pygments_lexer": "ipython3",
   "version": "3.8.5"
  }
 },
 "nbformat": 4,
 "nbformat_minor": 5
}
